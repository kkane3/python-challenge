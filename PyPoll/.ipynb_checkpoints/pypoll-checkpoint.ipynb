{
 "cells": [
  {
   "cell_type": "code",
   "execution_count": 1,
   "metadata": {},
   "outputs": [],
   "source": [
    "import csv\n",
    "import os"
   ]
  },
  {
   "cell_type": "code",
   "execution_count": 10,
   "metadata": {},
   "outputs": [],
   "source": [
    "#define input and output paths\n",
    "election_data = os.path.join('election_data.csv')\n",
    "election_results = os.path.join('ElectionResults.txt')"
   ]
  },
  {
   "cell_type": "code",
   "execution_count": 3,
   "metadata": {},
   "outputs": [],
   "source": [
    "#define variables\n",
    "candidates = [] #list of candidates\n",
    "candidates_votes = {} #dict to capture candidates with total votes\n",
    "total_votes = 0\n"
   ]
  },
  {
   "cell_type": "code",
   "execution_count": 4,
   "metadata": {},
   "outputs": [],
   "source": [
    "with open(election_data, newline=\"\") as csvfile:\n",
    "    csvreader = csv.reader(csvfile, delimiter =\",\")\n",
    "    csvheader = next(csvreader)\n",
    "\n",
    "    for row in csvreader:\n",
    "        total_votes = total_votes + 1\n",
    "        candidate = row[2]\n",
    "        if candidate not in candidates:\n",
    "            candidates.append(candidate)\n",
    "            candidates_votes[candidate] = 0\n",
    "        \n",
    "        candidates_votes[candidate] = candidates_votes[candidate] + 1\n",
    "        "
   ]
  },
  {
   "cell_type": "code",
   "execution_count": 5,
   "metadata": {},
   "outputs": [],
   "source": [
    "winner_votes = 0\n",
    "cand_votes = 0\n",
    "winner = \"\"\n",
    "for candidate, cand_votes in candidates_votes.items():\n",
    "        cand_votes = candidates_votes.get(candidate)\n",
    "        if cand_votes > winner_votes:\n",
    "            winner_votes = cand_votes\n",
    "            winner = candidate\n"
   ]
  },
  {
   "cell_type": "code",
   "execution_count": 8,
   "metadata": {},
   "outputs": [
    {
     "name": "stdout",
     "output_type": "stream",
     "text": [
      "Elections Results\n",
      "--------------------------------\n",
      "Total Votes: 3521001\n",
      "----------------------------\n",
      "\n",
      "Khan: 63.00001050837531 2218231\n",
      "Correy: 19.999994319797125 704200\n",
      "Li: 13.999996023857989 492940\n",
      "O'Tooley: 2.999999147969569 105630\n",
      "----------------------------------\n",
      "Winner:  Khan\n"
     ]
    }
   ],
   "source": [
    "#Output to terminal\n",
    "print(f\"Elections Results\")\n",
    "print(f\"--------------------------------\")\n",
    "print(f\"Total Votes: {total_votes}\")\n",
    "print(f\"----------------------------\\n\")\n",
    "#for candidate, cand_votes in candidates_votes.items():\n",
    "vote_per = 0\n",
    "for key, value in candidates_votes.items():\n",
    "    vote_per = (value/total_votes) * 100\n",
    "    print(f\"{key}: {vote_per} {value}\")\n",
    "    #print(f\"{candidates_votes[(key)]}\")\n",
    "    #{candidates_votes[int(value)]/total_votes} {candidates_votes[int(value)]}\")\n",
    "print(f\"----------------------------------\")\n",
    "print(f\"Winner:  {winner}\")\n",
    "\n"
   ]
  },
  {
   "cell_type": "code",
   "execution_count": 13,
   "metadata": {},
   "outputs": [],
   "source": [
    "#Output to file\n",
    "with open(election_results, \"w\") as output:\n",
    "    output.write(f\"Elections Results\")\n",
    "    output.write(\"\\n\")\n",
    "    output.write(f\"--------------------------------\")\n",
    "    output.write(\"\\n\")\n",
    "    output.write(f\"Total Votes: {total_votes}\")\n",
    "    output.write(\"\\n\")\n",
    "    output.write(f\"----------------------------\")\n",
    "    output.write(\"\\n\")\n",
    "    vote_per = 0\n",
    "    for key, value in candidates_votes.items():\n",
    "        vote_per = (value/total_votes) * 100\n",
    "        output.write(f\"{key}: {vote_per} {value}\")\n",
    "        output.write(\"\\n\")\n",
    "    output.write(f\"----------------------------------\")\n",
    "    output.write(\"\\n\")\n",
    "    output.write(f\"Winner:  {winner}\")\n",
    "\n",
    "\n"
   ]
  },
  {
   "cell_type": "code",
   "execution_count": null,
   "metadata": {},
   "outputs": [],
   "source": []
  }
 ],
 "metadata": {
  "kernelspec": {
   "display_name": "Python 3",
   "language": "python",
   "name": "python3"
  },
  "language_info": {
   "codemirror_mode": {
    "name": "ipython",
    "version": 3
   },
   "file_extension": ".py",
   "mimetype": "text/x-python",
   "name": "python",
   "nbconvert_exporter": "python",
   "pygments_lexer": "ipython3",
   "version": "3.7.3"
  }
 },
 "nbformat": 4,
 "nbformat_minor": 2
}
